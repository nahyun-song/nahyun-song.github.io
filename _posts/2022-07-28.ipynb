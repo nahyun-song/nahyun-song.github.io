{
 "cells": [
  {
   "cell_type": "markdown",
   "metadata": {},
   "source": [
    "---\n",
    "layout: single\n",
    "title:  \"20220728 SQL / 리트코드, 해커랭크\"\n",
    "categories: data_it_girls\n",
    "---"
   ]
  },
  {
   "cell_type": "markdown",
   "metadata": {},
   "source": [
    "# 595. Big Countries\n",
    "\n",
    "A country is big if:\n",
    "\n",
    "- it has an area of at least three million (i.e., 3000000 km2), or\n",
    "- it has a population of at least twenty-five million (i.e., 25000000).\n",
    "\n",
    "Write an SQL query to report the name, population, and area of the big countries.\n",
    "\n",
    "Return the result table in any order.\n",
    "\n",
    "The query result format is in the following example."
   ]
  },
  {
   "cell_type": "code",
   "execution_count": null,
   "metadata": {},
   "outputs": [],
   "source": [
    "SELECT name, population, area\n",
    "FROM World\n",
    "WHERE area >= 3000000 OR population >= 25000000"
   ]
  },
  {
   "cell_type": "markdown",
   "metadata": {},
   "source": [
    "# 620. Not Boring Movies\n",
    "\n",
    "Write an SQL query to report the movies with an odd-numbered ID and a description that is not \"boring\".\n",
    "\n",
    "Return the result table ordered by rating in descending order.\n",
    "\n",
    "The query result format is in the following example."
   ]
  },
  {
   "cell_type": "code",
   "execution_count": null,
   "metadata": {},
   "outputs": [],
   "source": [
    "SELECT id, movie, description, rating\n",
    "FROM Cinema\n",
    "WHERE description <> 'boring' AND id IN (SELECT id \n",
    "                                           FROM Cinema \n",
    "                                           WHERE MOD(id, 2) = 1) # WHERE MOD(a, b) : a를 b로 나눈 나머지\n",
    "ORDER BY rating DESC"
   ]
  },
  {
   "cell_type": "markdown",
   "metadata": {},
   "source": [
    "# 182. Duplicate Emails\n",
    "\n",
    "Write an SQL query to report all the duplicate emails.\n",
    "\n",
    "Return the result table in any order.\n",
    "\n",
    "The query result format is in the following example."
   ]
  },
  {
   "cell_type": "code",
   "execution_count": null,
   "metadata": {},
   "outputs": [],
   "source": [
    "SELECT email\n",
    "FROM Person\n",
    "GROUP BY email\n",
    "HAVING COUNT(id) > 1"
   ]
  },
  {
   "cell_type": "markdown",
   "metadata": {},
   "source": [
    "# 175. Combine Two Tables\n",
    "\n",
    "Write an SQL query to report the first name, last name, city, and state of each person in the `Person` table. If the address of a `personId` is not present in the `Address` table, report `null` instead.\n",
    "\n",
    "Return the result table in any order.\n",
    "\n",
    "The query result format is in the following example."
   ]
  },
  {
   "cell_type": "code",
   "execution_count": null,
   "metadata": {},
   "outputs": [],
   "source": [
    "SELECT p.firstName, p.lastName, a.city, a.state\n",
    "FROM Person AS p LEFT JOIN Address AS a ON p.personId = a.personId"
   ]
  },
  {
   "cell_type": "markdown",
   "metadata": {},
   "source": [
    "# Aggregation > Japan Population\n",
    "\n",
    "Query the sum of the populations for all Japanese cities in CITY. The COUNTRYCODE for Japan is JPN."
   ]
  },
  {
   "cell_type": "code",
   "execution_count": null,
   "metadata": {},
   "outputs": [],
   "source": [
    "SELECT SUM(POPULATION)\n",
    "FROM CITY\n",
    "WHERE COUNTRYCODE = 'JPN'"
   ]
  },
  {
   "cell_type": "markdown",
   "metadata": {},
   "source": [
    "# Aggregation > Weather Observation Station 2\n",
    "\n",
    "Query the following two values from the STATION table:\n",
    "\n",
    "The sum of all values in LAT_N rounded to a scale of 2 decimal places.\n",
    "The sum of all values in LONG_W rounded to a scale of 2 decimal places."
   ]
  },
  {
   "cell_type": "code",
   "execution_count": null,
   "metadata": {},
   "outputs": [],
   "source": [
    "SELECT ROUND(SUM(LAT_N), 2), ROUND(SUM(LONG_W), 2)\n",
    "FROM STATION"
   ]
  },
  {
   "cell_type": "markdown",
   "metadata": {},
   "source": [
    "# Aggregation > Weather Observation Station 18\n",
    "\n",
    "Consider p1(a,b) and p2(c,d) to be two points on a 2D plane.\n",
    "\n",
    "- a happens to equal the minimum value in Northern Latitude (LAT_N in STATION).\n",
    "- b happens to equal the minimum value in Western Longitude (LONG_W in STATION).\n",
    "- c happens to equal the maximum value in Northern Latitude (LAT_N in STATION).\n",
    "- d happens to equal the maximum value in Western Longitude (LONG_W in STATION).\n",
    "\n",
    "Query the Manhattan Distance between points p1 and p2 and round it to a scale of 4 decimal places."
   ]
  },
  {
   "cell_type": "code",
   "execution_count": null,
   "metadata": {},
   "outputs": [],
   "source": [
    "SELECT ROUND(ABS(MAX(LAT_N) - MIN(LAT_N)) + ABS(MAX(LONG_W) - MIN(LONG_W)), 4)\n",
    "FROM STATION"
   ]
  },
  {
   "cell_type": "markdown",
   "metadata": {},
   "source": [
    "# Advanced Select > New Companies\n",
    "\n",
    "Amber's conglomerate corporation just acquired some new companies. Each of the companies follows this hierarchy: \n",
    "\n",
    "Given the table schemas below, write a query to print the company_code, founder name, total number of lead managers, total number of senior managers, total number of managers, and total number of employees. Order your output by ascending company_code.\n",
    "\n",
    "Note:\n",
    "\n",
    "- The tables may contain duplicate records.\n",
    "- The company_code is string, so the sorting should not be numeric. For example, if the company_codes are C_1, C_2, and C_10, then the ascending company_codes will be C_1, C_10, and C_2."
   ]
  },
  {
   "cell_type": "code",
   "execution_count": null,
   "metadata": {},
   "outputs": [],
   "source": [
    "SELECT C.company_code, C.founder, COUNT(DISTINCT E.lead_manager_code),\n",
    "    COUNT(DISTINCT E.senior_manager_code), COUNT(DISTINCT E.manager_code), \n",
    "    COUNT(DISTINCT E.employee_code)\n",
    "FROM Employee E LEFT JOIN Company C ON C.company_code = E.company_code\n",
    "GROUP BY C.company_code, C.founder\n",
    "ORDER BY C.company_code"
   ]
  },
  {
   "cell_type": "markdown",
   "metadata": {},
   "source": [
    "# Aggregation > Population Density Difference\n",
    "\n",
    "Query the difference between the maximum and minimum populations in CITY."
   ]
  },
  {
   "cell_type": "code",
   "execution_count": null,
   "metadata": {},
   "outputs": [],
   "source": [
    "SELECT MAX(POPULATION) - MIN(POPULATION)\n",
    "FROM CITY"
   ]
  },
  {
   "cell_type": "markdown",
   "metadata": {},
   "source": [
    "# Basic Select > Weather Observation Station 11\n",
    "\n",
    "Query the list of CITY names from STATION that either do not start with vowels or do not end with vowels. Your result cannot contain duplicates."
   ]
  },
  {
   "cell_type": "code",
   "execution_count": null,
   "metadata": {},
   "outputs": [],
   "source": [
    "SELECT DISTINCT CITY\n",
    "FROM STATION\n",
    "WHERE LEFT(CITY, 1) NOT IN ('a','e','i','o','u') OR \n",
    "    RIGHT(CITY, 1) NOT IN ('a','e','i','o','u')"
   ]
  },
  {
   "cell_type": "markdown",
   "metadata": {},
   "source": [
    "# Aggregation > Weather Observation Station 13\n",
    "\n",
    "Query the sum of Northern Latitudes (LAT_N) from STATION having values greater than 38.7880 and less than 137.2345. Truncate your answer to 4 decimal places."
   ]
  },
  {
   "cell_type": "code",
   "execution_count": null,
   "metadata": {},
   "outputs": [],
   "source": [
    "SELECT ROUND(SUM(LAT_N), 4)\n",
    "FROM STATION\n",
    "WHERE LAT_N > 38.7880 AND LAT_N < 137.2345"
   ]
  },
  {
   "cell_type": "markdown",
   "metadata": {},
   "source": [
    "# Basic Join > Top Competitors\n",
    "\n",
    "Julia just finished conducting a coding contest, and she needs your help assembling the leaderboard! Write a query to print the respective hacker_id and name of hackers who achieved full scores for more than one challenge. Order your output in descending order by the total number of challenges in which the hacker earned a full score. If more than one hacker received full scores in same number of challenges, then sort them by ascending hacker_id."
   ]
  },
  {
   "cell_type": "code",
   "execution_count": null,
   "metadata": {},
   "outputs": [],
   "source": [
    "SELECT T.HID, T.NAME\n",
    "FROM(SELECT S.submission_id SID, S.hacker_id HID, S.challenge_id CID, \n",
    "            S.score SCORE, D.score PERFECT, H.name NAME\n",
    "    FROM Submissions S, Challenges C, Difficulty D, Hackers H\n",
    "    WHERE S.challenge_id = C.challenge_id \n",
    "         AND C.difficulty_level = D.difficulty_level\n",
    "         AND S.hacker_id = H.hacker_id) AS T\n",
    "WHERE T.SCORE = T.PERFECT\n",
    "GROUP BY T.HID, T.NAME\n",
    "HAVING COUNT(T.CID) > 1\n",
    "ORDER BY COUNT(T.SID) DESC, T.HID"
   ]
  },
  {
   "cell_type": "markdown",
   "metadata": {},
   "source": [
    "# Basic Select > Weather Observation Station 3\n",
    "\n",
    "Query a list of CITY names from STATION for cities that have an even ID number. Print the results in any order, but exclude duplicates from the answer."
   ]
  },
  {
   "cell_type": "code",
   "execution_count": null,
   "metadata": {},
   "outputs": [],
   "source": [
    "SELECT DISTINCT CITY\n",
    "FROM STATION\n",
    "WHERE MOD(ID, 2) = 0"
   ]
  },
  {
   "cell_type": "markdown",
   "metadata": {},
   "source": [
    "# Aggregation > Weather Observation Station 19\n",
    "\n",
    "Consider P1(a,c) and P1(b,d) to be two points on a 2D plane where (a,b) are the respective minimum and maximum values of Northern Latitude (LAT_N) and (c,d) are the respective minimum and maximum values of Western Longitude (LONG_W) in STATION.\n",
    "\n",
    "Query the Euclidean Distance between points P1 and P2 and format your answer to display 4 decimal digits."
   ]
  },
  {
   "cell_type": "code",
   "execution_count": null,
   "metadata": {},
   "outputs": [],
   "source": [
    "SELECT ROUND(SQRT(POWER(MAX(LONG_W) - MIN(LONG_W), 2) + POWER(MAX(LAT_N) - MIN(LAT_N), 2)), 4)\n",
    "FROM STATION"
   ]
  },
  {
   "cell_type": "markdown",
   "metadata": {},
   "source": [
    "# Advanced Join > Placements\n",
    "\n",
    "You are given three tables: Students, Friends and Packages. Students contains two columns: ID and Name. Friends contains two columns: ID and Friend_ID (ID of the ONLY best friend). Packages contains two columns: ID and Salary (offered salary in $ thousands per month).\n",
    "\n",
    "Write a query to output the names of those students whose best friends got offered a higher salary than them. Names must be ordered by the salary amount offered to the best friends. It is guaranteed that no two students got same salary offer."
   ]
  },
  {
   "cell_type": "code",
   "execution_count": null,
   "metadata": {},
   "outputs": [],
   "source": [
    "SELECT S.Name\n",
    "FROM Packages AS P LEFT JOIN Students AS S ON P.ID = S.ID\n",
    "    LEFT JOIN Friends AS F ON P.ID = F.ID\n",
    "    LEFT JOIN Packages AS P1 ON F.Friend_ID = P1.ID\n",
    "WHERE P.Salary < P1.Salary\n",
    "ORDER BY P1.Salary"
   ]
  },
  {
   "cell_type": "markdown",
   "metadata": {},
   "source": [
    "# Advanced Select > Binary Tree Nodes\n",
    "\n",
    "You are given a table, BST, containing two columns: N and P, where N represents the value of a node in Binary Tree, and P is the parent of N.\n",
    "\n",
    "Write a query to find the node type of Binary Tree ordered by the value of the node. Output one of the following for each node:\n",
    "\n",
    "- Root: If node is root node.\n",
    "- Leaf: If node is leaf node.\n",
    "- Inner: If node is neither root nor leaf node."
   ]
  },
  {
   "cell_type": "code",
   "execution_count": null,
   "metadata": {},
   "outputs": [],
   "source": [
    "SELECT N,\n",
    "    CASE\n",
    "        WHEN P IS NULL THEN 'Root'\n",
    "        WHEN N IN (SELECT P FROM BST) THEN 'Inner'\n",
    "        ELSE 'Leaf'\n",
    "    END RESULT\n",
    "FROM BST\n",
    "ORDER BY N"
   ]
  },
  {
   "cell_type": "markdown",
   "metadata": {},
   "source": [
    "# Aggregation > Weather Observation Station 17\n",
    "\n",
    "Query the Western Longitude (LONG_W)where the smallest Northern Latitude (LAT_N) in STATION is greater than 38.7780. Round your answer to 4 decimal places."
   ]
  },
  {
   "cell_type": "code",
   "execution_count": null,
   "metadata": {},
   "outputs": [],
   "source": [
    "SELECT ROUND(LONG_W, 4)\n",
    "FROM STATION\n",
    "WHERE LAT_N = (SELECT MIN(LAT_N)\n",
    "                FROM STATION\n",
    "                WHERE LAT_N > 38.7780)"
   ]
  },
  {
   "cell_type": "markdown",
   "metadata": {},
   "source": [
    "# Basic Join > Contest Leaderboard\n",
    "\n",
    "You did such a great job helping Julia with her last coding contest challenge that she wants you to work on this one, too!\n",
    "\n",
    "The total score of a hacker is the sum of their maximum scores for all of the challenges. Write a query to print the hacker_id, name, and total score of the hackers ordered by the descending score. If more than one hacker achieved the same total score, then sort the result by ascending hacker_id. Exclude all hackers with a total score of 0 from your result."
   ]
  },
  {
   "cell_type": "code",
   "execution_count": null,
   "metadata": {},
   "outputs": [],
   "source": []
  },
  {
   "cell_type": "markdown",
   "metadata": {},
   "source": [
    "# Advanced Select > Occupations\n",
    "\n",
    "Pivot the Occupation column in OCCUPATIONS so that each Name is sorted alphabetically and displayed underneath its corresponding Occupation. The output column headers should be Doctor, Professor, Singer, and Actor, respectively.\n",
    "\n",
    "Note: Print NULL when there are no more names corresponding to an occupation."
   ]
  },
  {
   "cell_type": "code",
   "execution_count": null,
   "metadata": {},
   "outputs": [],
   "source": []
  },
  {
   "cell_type": "markdown",
   "metadata": {},
   "source": [
    "# Basic Select > Weather Observation Station 5\n",
    "\n",
    "Query the two cities in STATION with the shortest and longest CITY names, as well as their respective lengths (i.e.: number of characters in the name). If there is more than one smallest or largest city, choose the one that comes first when ordered alphabetically."
   ]
  },
  {
   "cell_type": "code",
   "execution_count": null,
   "metadata": {},
   "outputs": [],
   "source": [
    "SELECT CITY, LENGTH(CITY)\n",
    "FROM STATION\n",
    "WHERE LENGTH(CITY) = (SELECT MIN(T.LEN)\n",
    "                        FROM (SELECT CITY, LENGTH(CITY) AS LEN\n",
    "                                FROM STATION) T) \n",
    "ORDER BY CITY\n",
    "LIMIT 1;\n",
    "\n",
    "SELECT CITY, LENGTH(CITY)\n",
    "FROM STATION\n",
    "WHERE LENGTH(CITY) = (SELECT MAX(T.LEN)\n",
    "                        FROM (SELECT CITY, LENGTH(CITY) AS LEN\n",
    "                                FROM STATION) T) \n",
    "ORDER BY CITY\n",
    "LIMIT 1;"
   ]
  },
  {
   "cell_type": "markdown",
   "metadata": {},
   "source": [
    "# Advanced Join > SQL Project Planning\n",
    "\n",
    "You are given a table, Projects, containing three columns: Task_ID, Start_Date and End_Date. It is guaranteed that the difference between the End_Date and the Start_Date is equal to 1 day for each row in the table.\n",
    "\n",
    "\n",
    "\n",
    "If the End_Date of the tasks are consecutive, then they are part of the same project. Samantha is interested in finding the total number of different projects completed.\n",
    "\n",
    "Write a query to output the start and end dates of projects listed by the number of days it took to complete the project in ascending order. If there is more than one project that have the same number of completion days, then order by the start date of the project."
   ]
  },
  {
   "cell_type": "code",
   "execution_count": null,
   "metadata": {},
   "outputs": [],
   "source": []
  },
  {
   "cell_type": "markdown",
   "metadata": {},
   "source": [
    "# Basic Join > Ollivander's Inventory\n",
    "\n",
    "Harry Potter and his friends are at Ollivander's with Ron, finally replacing Charlie's old broken wand.\n",
    "\n",
    "Hermione decides the best way to choose is by determining the minimum number of gold galleons needed to buy each non-evil wand of high power and age. Write a query to print the id, age, coins_needed, and power of the wands that Ron's interested in, sorted in order of descending power. If more than one wand has same power, sort the result in order of descending age."
   ]
  },
  {
   "cell_type": "code",
   "execution_count": null,
   "metadata": {},
   "outputs": [],
   "source": []
  },
  {
   "cell_type": "markdown",
   "metadata": {},
   "source": [
    "# Aggregation > Weather Observation Station 20\n",
    "\n",
    "A median is defined as a number separating the higher half of a data set from the lower half. Query the median of the Northern Latitudes (LAT_N) from STATION and round your answer to  decimal places."
   ]
  },
  {
   "cell_type": "code",
   "execution_count": null,
   "metadata": {},
   "outputs": [],
   "source": [
    "SELECT T.LAT\n",
    "FROM (SELECT ROW_NUMBER() OVER(ORDER BY LAT_N) RN, ROUND(LAT_N, 4) AS LAT\n",
    "        FROM STATION) AS T\n",
    "WHERE T.RN = (SELECT CEIL(COUNT(LAT_N) / 2)\n",
    "                FROM STATION)"
   ]
  },
  {
   "cell_type": "markdown",
   "metadata": {},
   "source": [
    "# 178. Rank Scores\n",
    "\n",
    "Write an SQL query to rank the scores. The ranking should be calculated according to the following rules:\n",
    "\n",
    "- The scores should be ranked from the highest to the lowest.\n",
    "- If there is a tie between two scores, both should have the same ranking.\n",
    "- After a tie, the next ranking number should be the next consecutive integer value. In other words, there should be no holes between ranks.\n",
    "\n",
    "Return the result table ordered by score in descending order."
   ]
  },
  {
   "cell_type": "code",
   "execution_count": null,
   "metadata": {},
   "outputs": [],
   "source": [
    "SELECT score, DENSE_RANK() over(ORDER BY score DESC) AS 'rank'\n",
    "FROM Scores"
   ]
  },
  {
   "cell_type": "markdown",
   "metadata": {},
   "source": [
    "# 262. Trips and Users\n",
    "\n",
    "The cancellation rate is computed by dividing the number of canceled (by client or driver) requests with unbanned users by the total number of requests with unbanned users on that day.\n",
    "\n",
    "Write a SQL query to find the cancellation rate of requests with unbanned users (both client and driver must not be banned) each day between \"2013-10-01\" and \"2013-10-03\". Round Cancellation Rate to two decimal points.\n",
    "\n",
    "Return the result table in any order."
   ]
  },
  {
   "cell_type": "code",
   "execution_count": null,
   "metadata": {},
   "outputs": [],
   "source": [
    "SELECT T1.day AS 'Day', ROUND(T2.canceled / T1.total, 2) AS 'Cancellation Rate'\n",
    "FROM \n",
    "(SELECT T.request_at AS day, COUNT(id) AS total\n",
    "        FROM Trips AS T LEFT JOIN Users AS U ON T.client_id = U.users_id\n",
    "        WHERE U.banned = 'No'\n",
    "        GROUP BY T.request_at) AS T1,\n",
    "(SELECT T.request_at AS day, IFNULL(COUNT(id), 0.00) AS canceled\n",
    "    FROM Trips AS T LEFT JOIN Users AS U ON T.client_id = U.users_id\n",
    "    WHERE U.banned = 'No' AND T.status <> 'completed'\n",
    "    GROUP BY T.request_at) AS T2\n",
    "WHERE T1.day = T2.day"
   ]
  },
  {
   "cell_type": "markdown",
   "metadata": {},
   "source": [
    "# 626. Exchange Seats\n",
    "\n",
    "Write an SQL query to swap the seat id of every two consecutive students. If the number of students is odd, the id of the last student is not swapped.\n",
    "\n",
    "Return the result table ordered by id in ascending order."
   ]
  },
  {
   "cell_type": "code",
   "execution_count": null,
   "metadata": {},
   "outputs": [],
   "source": []
  }
 ],
 "metadata": {
  "kernelspec": {
   "display_name": "Python 3",
   "language": "python",
   "name": "python3"
  },
  "language_info": {
   "codemirror_mode": {
    "name": "ipython",
    "version": 3
   },
   "file_extension": ".py",
   "mimetype": "text/x-python",
   "name": "python",
   "nbconvert_exporter": "python",
   "pygments_lexer": "ipython3",
   "version": "3.8.5"
  }
 },
 "nbformat": 4,
 "nbformat_minor": 4
}
